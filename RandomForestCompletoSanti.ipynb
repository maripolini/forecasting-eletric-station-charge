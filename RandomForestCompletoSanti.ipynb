{
  "nbformat": 4,
  "nbformat_minor": 0,
  "metadata": {
    "colab": {
      "name": "RandomForest.ipynb",
      "version": "0.3.2",
      "views": {},
      "default_view": {},
      "provenance": [],
      "collapsed_sections": []
    },
    "kernelspec": {
      "name": "python3",
      "display_name": "Python 3"
    }
  },
  "cells": [
    {
      "metadata": {
        "id": "yMmwAcsqFqwH",
        "colab_type": "text"
      },
      "cell_type": "markdown",
      "source": [
        "## Random Forest for PlaceToPlug"
      ]
    },
    {
      "metadata": {
        "id": "UWaqReVaFqxv",
        "colab_type": "text"
      },
      "cell_type": "markdown",
      "source": [
        "**The following Kernel is an implementation of Random Forest, using sklearn. The score that it gives for this competition is low (0.270), however it is a good example for those who are interested in learning a little bit more about how to use sklearn to create random forests**"
      ]
    },
    {
      "metadata": {
        "id": "XzHMqRcZHuMB",
        "colab_type": "code",
        "colab": {
          "autoexec": {
            "startup": false,
            "wait_interval": 0
          }
        }
      },
      "cell_type": "code",
      "source": [
        "import pandas as pd\n",
        "from sklearn.ensemble import RandomForestRegressor, RandomForestClassifier, GradientBoostingRegressor\n",
        "from sklearn.model_selection import train_test_split\n",
        "from sklearn.tree import export_graphviz\n",
        "from sklearn import metrics\n",
        "from sklearn.tree import _tree\n"
      ],
      "execution_count": 0,
      "outputs": []
    },
    {
      "metadata": {
        "id": "S7PzG7o1d8rA",
        "colab_type": "code",
        "colab": {
          "autoexec": {
            "startup": false,
            "wait_interval": 0
          }
        }
      },
      "cell_type": "code",
      "source": [
        "import dateutil.parser\n",
        "from google.colab import files"
      ],
      "execution_count": 0,
      "outputs": []
    },
    {
      "metadata": {
        "id": "cEWt8ZETHuXg",
        "colab_type": "code",
        "colab": {
          "autoexec": {
            "startup": false,
            "wait_interval": 0
          }
        }
      },
      "cell_type": "code",
      "source": [
        "#!pip install graphviz\n",
        "#!import graphviz\n",
        "pd.options.display.max_rows = 20 # don't display many rows"
      ],
      "execution_count": 0,
      "outputs": []
    },
    {
      "metadata": {
        "id": "SLkGrpKkw8xA",
        "colab_type": "text"
      },
      "cell_type": "markdown",
      "source": [
        "# # Predefined funcions"
      ]
    },
    {
      "metadata": {
        "id": "Jnbq0hzLxQX3",
        "colab_type": "text"
      },
      "cell_type": "markdown",
      "source": [
        "### plugStat(status)-> value\n",
        "query function that returns value assigned to each one of possible plug status\n",
        "\n",
        "```\n",
        "# This is formatted as code\n",
        "```\n",
        "\n"
      ]
    },
    {
      "metadata": {
        "id": "O0MWCqV4w6Sg",
        "colab_type": "code",
        "colab": {
          "autoexec": {
            "startup": false,
            "wait_interval": 0
          }
        }
      },
      "cell_type": "code",
      "source": [
        "# Plug status as a query table\n",
        "def plugStat(s):\n",
        "  return {\n",
        "      'AVAILABLE': 0,\n",
        "      'FINISHING': 1,\n",
        "      'CHARGING': 2,\n",
        "      'PREPARING': 3,\n",
        "      'UNAVAILABLE': 4\n",
        "  }.get(s, -1)"
      ],
      "execution_count": 0,
      "outputs": []
    },
    {
      "metadata": {
        "id": "rYWRkWgl9eZ2",
        "colab_type": "text"
      },
      "cell_type": "markdown",
      "source": [
        "### pntime(timestamp) -> value\n",
        "function that returns number of minutes from a time reference."
      ]
    },
    {
      "metadata": {
        "id": "zLicBgNN9XIt",
        "colab_type": "code",
        "colab": {
          "autoexec": {
            "startup": false,
            "wait_interval": 0
          }
        }
      },
      "cell_type": "code",
      "source": [
        "def pntime(s):\n",
        "  return ((dateutil.parser.parse(s).timestamp())-1498898468)/60"
      ],
      "execution_count": 0,
      "outputs": []
    },
    {
      "metadata": {
        "id": "ThvTiwoFOpS1",
        "colab_type": "text"
      },
      "cell_type": "markdown",
      "source": [
        "## Load data from csv##"
      ]
    },
    {
      "metadata": {
        "id": "TcDm9rDCfxpa",
        "colab_type": "text"
      },
      "cell_type": "markdown",
      "source": [
        "Upload files from source"
      ]
    },
    {
      "metadata": {
        "id": "SV75FIh8cOjN",
        "colab_type": "code",
        "colab": {
          "autoexec": {
            "startup": false,
            "wait_interval": 0
          },
          "resources": {
            "http://localhost:8080/nbextensions/google.colab/files.js": {
              "data": "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",
              "ok": true,
              "headers": [
                [
                  "content-type",
                  "application/javascript"
                ]
              ],
              "status": 200,
              "status_text": ""
            }
          },
          "base_uri": "https://localhost:8080/",
          "height": 106
        },
        "outputId": "dce157e9-2058-430d-f6f9-a23865a175eb",
        "executionInfo": {
          "status": "ok",
          "timestamp": 1532960022682,
          "user_tz": -120,
          "elapsed": 28625,
          "user": {
            "displayName": "Santi Fri",
            "photoUrl": "//lh3.googleusercontent.com/-BiVylvwi5GA/AAAAAAAAAAI/AAAAAAAAKZE/2U1GGkGXqoI/s50-c-k-no/photo.jpg",
            "userId": "103760603338811779749"
          }
        }
      },
      "cell_type": "code",
      "source": [
        "uploaded = files.upload()     # To upload files to colab storage\n"
      ],
      "execution_count": 5,
      "outputs": [
        {
          "output_type": "display_data",
          "data": {
            "text/html": [
              "\n",
              "     <input type=\"file\" id=\"files-4aa7cd12-c7c0-45db-a457-772a717eba5c\" name=\"files[]\" multiple disabled />\n",
              "     <output id=\"result-4aa7cd12-c7c0-45db-a457-772a717eba5c\">\n",
              "      Upload widget is only available when the cell has been executed in the\n",
              "      current browser session. Please rerun this cell to enable.\n",
              "      </output>\n",
              "      <script src=\"/nbextensions/google.colab/files.js\"></script> "
            ],
            "text/plain": [
              "<IPython.core.display.HTML object>"
            ]
          },
          "metadata": {
            "tags": []
          }
        },
        {
          "output_type": "stream",
          "text": [
            "Saving PuntsRecarregaV2_test.csv to PuntsRecarregaV2_test.csv\n",
            "Saving PuntsRecarregaV2_train.csv to PuntsRecarregaV2_train.csv\n"
          ],
          "name": "stdout"
        }
      ]
    },
    {
      "metadata": {
        "id": "AUUQJK07ZMYQ",
        "colab_type": "code",
        "colab": {
          "autoexec": {
            "startup": false,
            "wait_interval": 0
          }
        }
      },
      "cell_type": "code",
      "source": [
        "#!mv P*.* datalab/\n",
        "#!rm datalab/t*.*  # DO NOT UNCOMMENT UNLESS YOU WANT TO ERASE THE DATASET"
      ],
      "execution_count": 0,
      "outputs": []
    },
    {
      "metadata": {
        "id": "bGZPVjDrcjfv",
        "colab_type": "code",
        "colab": {
          "autoexec": {
            "startup": false,
            "wait_interval": 0
          },
          "base_uri": "https://localhost:8080/",
          "height": 119
        },
        "outputId": "90d313b8-fcba-4d59-d7e9-2e41976f3084",
        "executionInfo": {
          "status": "ok",
          "timestamp": 1532960044250,
          "user_tz": -120,
          "elapsed": 1488,
          "user": {
            "displayName": "Santi Fri",
            "photoUrl": "//lh3.googleusercontent.com/-BiVylvwi5GA/AAAAAAAAAAI/AAAAAAAAKZE/2U1GGkGXqoI/s50-c-k-no/photo.jpg",
            "userId": "103760603338811779749"
          }
        }
      },
      "cell_type": "code",
      "source": [
        "!ls -lah datalab/  # TO SEE IF DATASET CSV'S FILES EXISTS"
      ],
      "execution_count": 7,
      "outputs": [
        {
          "output_type": "stream",
          "text": [
            "total 1.1M\r\n",
            "drwxr-xr-x 1 root root 4.0K Jul 30 14:11 .\r\n",
            "drwxr-xr-x 1 root root 4.0K Jul 30 14:11 ..\r\n",
            "drwxr-xr-x 4 root root 4.0K Jul 26 16:56 .config\r\n",
            "-rw-r--r-- 1 root root 109K Jul 30 14:11 PuntsRecarregaV2_test.csv\r\n",
            "-rw-r--r-- 1 root root 974K Jul 30 14:11 PuntsRecarregaV2_train.csv\r\n"
          ],
          "name": "stdout"
        }
      ]
    },
    {
      "metadata": {
        "id": "POVRIfVqSKAr",
        "colab_type": "code",
        "colab": {
          "autoexec": {
            "startup": false,
            "wait_interval": 0
          }
        }
      },
      "cell_type": "code",
      "source": [
        "#!cat datalab/PuntsRecarregaV2_test.csv"
      ],
      "execution_count": 0,
      "outputs": []
    },
    {
      "metadata": {
        "id": "cRJZ5hBLfNeM",
        "colab_type": "code",
        "colab": {
          "autoexec": {
            "startup": false,
            "wait_interval": 0
          }
        }
      },
      "cell_type": "code",
      "source": [
        "#!cat datalab/PuntsRecarregaV2_train.csv"
      ],
      "execution_count": 0,
      "outputs": []
    },
    {
      "metadata": {
        "id": "3HVETyUsf-5C",
        "colab_type": "text"
      },
      "cell_type": "markdown",
      "source": [
        "Load data from csv's to train_data and test"
      ]
    },
    {
      "metadata": {
        "id": "7BIx-wPgHugo",
        "colab_type": "code",
        "colab": {
          "autoexec": {
            "startup": false,
            "wait_interval": 0
          }
        }
      },
      "cell_type": "code",
      "source": [
        "train_data = pd.read_csv('datalab/PuntsRecarregaV2_train.csv')  #    , parse_dates=['timestamp'])\n",
        "#type(train_data.zoneId), type(train_data.stationId), type(train_data.serviceId), type(train_data.plugId), type(train_data.timestamp), type(train_data.status)"
      ],
      "execution_count": 0,
      "outputs": []
    },
    {
      "metadata": {
        "id": "hz9qj7-UszZT",
        "colab_type": "text"
      },
      "cell_type": "markdown",
      "source": [
        "Access to dataFrame via rows/columns\n",
        "\n",
        "----\n",
        "\n",
        "```\n",
        "In [17]: dtfrm_var.iat[0,0]\n",
        "In [18]: dtfrm_var.at[0,'status']\n",
        "\n",
        "```\n",
        "---\n"
      ]
    },
    {
      "metadata": {
        "id": "HWHv88UXt2tw",
        "colab_type": "code",
        "colab": {
          "autoexec": {
            "startup": false,
            "wait_interval": 0
          }
        }
      },
      "cell_type": "code",
      "source": [
        "#train_data.at[0,'status'], plugStat(train_data.at[0,'status']) # To see how works status transformation"
      ],
      "execution_count": 0,
      "outputs": []
    },
    {
      "metadata": {
        "id": "Hvuchjrm88av",
        "colab_type": "code",
        "colab": {
          "autoexec": {
            "startup": false,
            "wait_interval": 0
          }
        }
      },
      "cell_type": "code",
      "source": [
        "#train_data.at[0,'timestamp'], pntime(train_data.at[0,'timestamp'])  # to see how works timestamp transformation"
      ],
      "execution_count": 0,
      "outputs": []
    },
    {
      "metadata": {
        "id": "9uAoufaOgMqj",
        "colab_type": "code",
        "colab": {
          "autoexec": {
            "startup": false,
            "wait_interval": 0
          },
          "base_uri": "https://localhost:8080/",
          "height": 204
        },
        "outputId": "4dd87e24-fa3e-47f8-da07-04be30039734",
        "executionInfo": {
          "status": "ok",
          "timestamp": 1532960250389,
          "user_tz": -120,
          "elapsed": 542,
          "user": {
            "displayName": "Santi Fri",
            "photoUrl": "//lh3.googleusercontent.com/-BiVylvwi5GA/AAAAAAAAAAI/AAAAAAAAKZE/2U1GGkGXqoI/s50-c-k-no/photo.jpg",
            "userId": "103760603338811779749"
          }
        }
      },
      "cell_type": "code",
      "source": [
        "train_data.head()"
      ],
      "execution_count": 20,
      "outputs": [
        {
          "output_type": "execute_result",
          "data": {
            "text/html": [
              "<div>\n",
              "<style scoped>\n",
              "    .dataframe tbody tr th:only-of-type {\n",
              "        vertical-align: middle;\n",
              "    }\n",
              "\n",
              "    .dataframe tbody tr th {\n",
              "        vertical-align: top;\n",
              "    }\n",
              "\n",
              "    .dataframe thead th {\n",
              "        text-align: right;\n",
              "    }\n",
              "</style>\n",
              "<table border=\"1\" class=\"dataframe\">\n",
              "  <thead>\n",
              "    <tr style=\"text-align: right;\">\n",
              "      <th></th>\n",
              "      <th>zoneId</th>\n",
              "      <th>stationId</th>\n",
              "      <th>serviceId</th>\n",
              "      <th>plugId</th>\n",
              "      <th>timestamp</th>\n",
              "      <th>status</th>\n",
              "    </tr>\n",
              "  </thead>\n",
              "  <tbody>\n",
              "    <tr>\n",
              "      <th>0</th>\n",
              "      <td>4</td>\n",
              "      <td>4</td>\n",
              "      <td>1</td>\n",
              "      <td>1</td>\n",
              "      <td>0.0166667</td>\n",
              "      <td>3</td>\n",
              "    </tr>\n",
              "    <tr>\n",
              "      <th>1</th>\n",
              "      <td>4</td>\n",
              "      <td>4</td>\n",
              "      <td>1</td>\n",
              "      <td>1</td>\n",
              "      <td>0.433333</td>\n",
              "      <td>2</td>\n",
              "    </tr>\n",
              "    <tr>\n",
              "      <th>2</th>\n",
              "      <td>4</td>\n",
              "      <td>1</td>\n",
              "      <td>1</td>\n",
              "      <td>1</td>\n",
              "      <td>10.6</td>\n",
              "      <td>1</td>\n",
              "    </tr>\n",
              "    <tr>\n",
              "      <th>3</th>\n",
              "      <td>4</td>\n",
              "      <td>4</td>\n",
              "      <td>1</td>\n",
              "      <td>1</td>\n",
              "      <td>10.8167</td>\n",
              "      <td>0</td>\n",
              "    </tr>\n",
              "    <tr>\n",
              "      <th>4</th>\n",
              "      <td>4</td>\n",
              "      <td>4</td>\n",
              "      <td>1</td>\n",
              "      <td>1</td>\n",
              "      <td>18.2</td>\n",
              "      <td>3</td>\n",
              "    </tr>\n",
              "  </tbody>\n",
              "</table>\n",
              "</div>"
            ],
            "text/plain": [
              "   zoneId  stationId  serviceId  plugId  timestamp status\n",
              "0       4          4          1       1  0.0166667      3\n",
              "1       4          4          1       1   0.433333      2\n",
              "2       4          1          1       1       10.6      1\n",
              "3       4          4          1       1    10.8167      0\n",
              "4       4          4          1       1       18.2      3"
            ]
          },
          "metadata": {
            "tags": []
          },
          "execution_count": 20
        }
      ]
    },
    {
      "metadata": {
        "id": "GYiR0tf6wVR-",
        "colab_type": "text"
      },
      "cell_type": "markdown",
      "source": [
        "## Transform status field with a query function : plug_stat\n"
      ]
    },
    {
      "metadata": {
        "id": "vUKuYHwQwTrC",
        "colab_type": "code",
        "colab": {
          "autoexec": {
            "startup": false,
            "wait_interval": 0
          },
          "base_uri": "https://localhost:8080/",
          "height": 34
        },
        "outputId": "f6d85df4-7eb7-4503-eb66-0b60c8d3d182",
        "executionInfo": {
          "status": "ok",
          "timestamp": 1532960242369,
          "user_tz": -120,
          "elapsed": 5738,
          "user": {
            "displayName": "Santi Fri",
            "photoUrl": "//lh3.googleusercontent.com/-BiVylvwi5GA/AAAAAAAAAAI/AAAAAAAAKZE/2U1GGkGXqoI/s50-c-k-no/photo.jpg",
            "userId": "103760603338811779749"
          }
        }
      },
      "cell_type": "code",
      "source": [
        "count = 0\n",
        "#train_data['dytime']=train_data['timestamp'].values\n",
        "for indexrow,row in train_data.iterrows():\n",
        "  train_data.at[indexrow,'timestamp'] = pntime(train_data.at[indexrow,'timestamp'])\n",
        "  train_data.at[indexrow,'status'] = plugStat(train_data.at[indexrow,'status'])\n",
        "  count += 1\n",
        "print('Transform: performed',count,'substitutions on training dataset.')\n",
        "  "
      ],
      "execution_count": 19,
      "outputs": [
        {
          "output_type": "stream",
          "text": [
            "Transform: performed 25063 substitutions on training dataset.\n"
          ],
          "name": "stdout"
        }
      ]
    },
    {
      "metadata": {
        "id": "XHSbr2D5jttW",
        "colab_type": "code",
        "colab": {
          "autoexec": {
            "startup": false,
            "wait_interval": 0
          }
        }
      },
      "cell_type": "code",
      "source": [
        "#train_data['dytime']\n"
      ],
      "execution_count": 0,
      "outputs": []
    },
    {
      "metadata": {
        "id": "CnnegROwiba0",
        "colab_type": "code",
        "colab": {
          "autoexec": {
            "startup": false,
            "wait_interval": 0
          }
        }
      },
      "cell_type": "code",
      "source": [
        "#train_data['duration']"
      ],
      "execution_count": 0,
      "outputs": []
    },
    {
      "metadata": {
        "id": "n6XXCJ-1V0q3",
        "colab_type": "code",
        "colab": {
          "autoexec": {
            "startup": false,
            "wait_interval": 0
          }
        }
      },
      "cell_type": "code",
      "source": [
        "test = pd.read_csv('datalab/PuntsRecarregaV2_test.csv')\n",
        "#type(test.zoneId), type(test.stationId), type(test.serviceId), type(test.plugId), type(test.timestamp), type(test.status)"
      ],
      "execution_count": 0,
      "outputs": []
    },
    {
      "metadata": {
        "id": "loJ9ti9lhYSC",
        "colab_type": "code",
        "colab": {
          "autoexec": {
            "startup": false,
            "wait_interval": 0
          },
          "base_uri": "https://localhost:8080/",
          "height": 204
        },
        "outputId": "b71b4ca9-c7ef-483e-e334-72be45b7677c",
        "executionInfo": {
          "status": "ok",
          "timestamp": 1532960347275,
          "user_tz": -120,
          "elapsed": 517,
          "user": {
            "displayName": "Santi Fri",
            "photoUrl": "//lh3.googleusercontent.com/-BiVylvwi5GA/AAAAAAAAAAI/AAAAAAAAKZE/2U1GGkGXqoI/s50-c-k-no/photo.jpg",
            "userId": "103760603338811779749"
          }
        }
      },
      "cell_type": "code",
      "source": [
        "test.head()"
      ],
      "execution_count": 24,
      "outputs": [
        {
          "output_type": "execute_result",
          "data": {
            "text/html": [
              "<div>\n",
              "<style scoped>\n",
              "    .dataframe tbody tr th:only-of-type {\n",
              "        vertical-align: middle;\n",
              "    }\n",
              "\n",
              "    .dataframe tbody tr th {\n",
              "        vertical-align: top;\n",
              "    }\n",
              "\n",
              "    .dataframe thead th {\n",
              "        text-align: right;\n",
              "    }\n",
              "</style>\n",
              "<table border=\"1\" class=\"dataframe\">\n",
              "  <thead>\n",
              "    <tr style=\"text-align: right;\">\n",
              "      <th></th>\n",
              "      <th>zoneId</th>\n",
              "      <th>stationId</th>\n",
              "      <th>serviceId</th>\n",
              "      <th>plugId</th>\n",
              "      <th>timestamp</th>\n",
              "      <th>status</th>\n",
              "    </tr>\n",
              "  </thead>\n",
              "  <tbody>\n",
              "    <tr>\n",
              "      <th>0</th>\n",
              "      <td>4</td>\n",
              "      <td>4</td>\n",
              "      <td>1</td>\n",
              "      <td>1</td>\n",
              "      <td>507613</td>\n",
              "      <td>3</td>\n",
              "    </tr>\n",
              "    <tr>\n",
              "      <th>1</th>\n",
              "      <td>4</td>\n",
              "      <td>4</td>\n",
              "      <td>1</td>\n",
              "      <td>1</td>\n",
              "      <td>507614</td>\n",
              "      <td>2</td>\n",
              "    </tr>\n",
              "    <tr>\n",
              "      <th>2</th>\n",
              "      <td>4</td>\n",
              "      <td>4</td>\n",
              "      <td>2</td>\n",
              "      <td>1</td>\n",
              "      <td>507615</td>\n",
              "      <td>3</td>\n",
              "    </tr>\n",
              "    <tr>\n",
              "      <th>3</th>\n",
              "      <td>4</td>\n",
              "      <td>4</td>\n",
              "      <td>2</td>\n",
              "      <td>1</td>\n",
              "      <td>507615</td>\n",
              "      <td>2</td>\n",
              "    </tr>\n",
              "    <tr>\n",
              "      <th>4</th>\n",
              "      <td>4</td>\n",
              "      <td>1</td>\n",
              "      <td>1</td>\n",
              "      <td>1</td>\n",
              "      <td>507644</td>\n",
              "      <td>1</td>\n",
              "    </tr>\n",
              "  </tbody>\n",
              "</table>\n",
              "</div>"
            ],
            "text/plain": [
              "   zoneId  stationId  serviceId  plugId timestamp status\n",
              "0       4          4          1       1    507613      3\n",
              "1       4          4          1       1    507614      2\n",
              "2       4          4          2       1    507615      3\n",
              "3       4          4          2       1    507615      2\n",
              "4       4          1          1       1    507644      1"
            ]
          },
          "metadata": {
            "tags": []
          },
          "execution_count": 24
        }
      ]
    },
    {
      "metadata": {
        "id": "Vm-Gcp1k7fAO",
        "colab_type": "text"
      },
      "cell_type": "markdown",
      "source": [
        "### Transform status field with a query function : plug_stat\n"
      ]
    },
    {
      "metadata": {
        "id": "T4sLI2Nf6JMT",
        "colab_type": "text"
      },
      "cell_type": "markdown",
      "source": [
        "Transform too dataset for test. :-)"
      ]
    },
    {
      "metadata": {
        "id": "DbJRwJxP6O6S",
        "colab_type": "code",
        "colab": {
          "autoexec": {
            "startup": false,
            "wait_interval": 0
          },
          "base_uri": "https://localhost:8080/",
          "height": 34
        },
        "outputId": "ecbe470b-ff44-405d-842b-00156bb92426",
        "executionInfo": {
          "status": "ok",
          "timestamp": 1532960341072,
          "user_tz": -120,
          "elapsed": 1150,
          "user": {
            "displayName": "Santi Fri",
            "photoUrl": "//lh3.googleusercontent.com/-BiVylvwi5GA/AAAAAAAAAAI/AAAAAAAAKZE/2U1GGkGXqoI/s50-c-k-no/photo.jpg",
            "userId": "103760603338811779749"
          }
        }
      },
      "cell_type": "code",
      "source": [
        "count = 0\n",
        "for indexrow,row in test.iterrows():\n",
        "  test.at[indexrow,'timestamp'] = pntime(test.at[indexrow,'timestamp'])\n",
        "  test.at[indexrow,'status'] = plugStat(test.at[indexrow,'status'])\n",
        "  count += 1\n",
        "print('Transform: performed',count,'substitutions on test dataset.')"
      ],
      "execution_count": 23,
      "outputs": [
        {
          "output_type": "stream",
          "text": [
            "Transform: performed 2785 substitutions on test dataset.\n"
          ],
          "name": "stdout"
        }
      ]
    },
    {
      "metadata": {
        "id": "dlfQ7IlLIgT6",
        "colab_type": "text"
      },
      "cell_type": "markdown",
      "source": [
        "**First, lets take a look at the data and the different feautures.**"
      ]
    },
    {
      "metadata": {
        "id": "fVQvEEy7Hupb",
        "colab_type": "code",
        "colab": {
          "autoexec": {
            "startup": false,
            "wait_interval": 0
          },
          "base_uri": "https://localhost:8080/",
          "height": 173
        },
        "outputId": "38736770-094b-4807-bf8d-169f72e6e33f",
        "executionInfo": {
          "status": "ok",
          "timestamp": 1532960420334,
          "user_tz": -120,
          "elapsed": 732,
          "user": {
            "displayName": "Santi Fri",
            "photoUrl": "//lh3.googleusercontent.com/-BiVylvwi5GA/AAAAAAAAAAI/AAAAAAAAKZE/2U1GGkGXqoI/s50-c-k-no/photo.jpg",
            "userId": "103760603338811779749"
          }
        }
      },
      "cell_type": "code",
      "source": [
        "train_data.describe().transpose()"
      ],
      "execution_count": 27,
      "outputs": [
        {
          "output_type": "execute_result",
          "data": {
            "text/html": [
              "<div>\n",
              "<style scoped>\n",
              "    .dataframe tbody tr th:only-of-type {\n",
              "        vertical-align: middle;\n",
              "    }\n",
              "\n",
              "    .dataframe tbody tr th {\n",
              "        vertical-align: top;\n",
              "    }\n",
              "\n",
              "    .dataframe thead th {\n",
              "        text-align: right;\n",
              "    }\n",
              "</style>\n",
              "<table border=\"1\" class=\"dataframe\">\n",
              "  <thead>\n",
              "    <tr style=\"text-align: right;\">\n",
              "      <th></th>\n",
              "      <th>count</th>\n",
              "      <th>mean</th>\n",
              "      <th>std</th>\n",
              "      <th>min</th>\n",
              "      <th>25%</th>\n",
              "      <th>50%</th>\n",
              "      <th>75%</th>\n",
              "      <th>max</th>\n",
              "    </tr>\n",
              "  </thead>\n",
              "  <tbody>\n",
              "    <tr>\n",
              "      <th>zoneId</th>\n",
              "      <td>25063.0</td>\n",
              "      <td>3.855364</td>\n",
              "      <td>1.028341</td>\n",
              "      <td>1.0</td>\n",
              "      <td>4.0</td>\n",
              "      <td>4.0</td>\n",
              "      <td>4.0</td>\n",
              "      <td>5.0</td>\n",
              "    </tr>\n",
              "    <tr>\n",
              "      <th>stationId</th>\n",
              "      <td>25063.0</td>\n",
              "      <td>3.166860</td>\n",
              "      <td>1.514648</td>\n",
              "      <td>1.0</td>\n",
              "      <td>1.0</td>\n",
              "      <td>4.0</td>\n",
              "      <td>4.0</td>\n",
              "      <td>5.0</td>\n",
              "    </tr>\n",
              "    <tr>\n",
              "      <th>serviceId</th>\n",
              "      <td>25063.0</td>\n",
              "      <td>1.493995</td>\n",
              "      <td>0.499974</td>\n",
              "      <td>1.0</td>\n",
              "      <td>1.0</td>\n",
              "      <td>1.0</td>\n",
              "      <td>2.0</td>\n",
              "      <td>2.0</td>\n",
              "    </tr>\n",
              "    <tr>\n",
              "      <th>plugId</th>\n",
              "      <td>25063.0</td>\n",
              "      <td>1.000000</td>\n",
              "      <td>0.000000</td>\n",
              "      <td>1.0</td>\n",
              "      <td>1.0</td>\n",
              "      <td>1.0</td>\n",
              "      <td>1.0</td>\n",
              "      <td>1.0</td>\n",
              "    </tr>\n",
              "  </tbody>\n",
              "</table>\n",
              "</div>"
            ],
            "text/plain": [
              "             count      mean       std  min  25%  50%  75%  max\n",
              "zoneId     25063.0  3.855364  1.028341  1.0  4.0  4.0  4.0  5.0\n",
              "stationId  25063.0  3.166860  1.514648  1.0  1.0  4.0  4.0  5.0\n",
              "serviceId  25063.0  1.493995  0.499974  1.0  1.0  1.0  2.0  2.0\n",
              "plugId     25063.0  1.000000  0.000000  1.0  1.0  1.0  1.0  1.0"
            ]
          },
          "metadata": {
            "tags": []
          },
          "execution_count": 27
        }
      ]
    },
    {
      "metadata": {
        "id": "3GdM2xqniT3y",
        "colab_type": "code",
        "colab": {
          "autoexec": {
            "startup": false,
            "wait_interval": 0
          },
          "base_uri": "https://localhost:8080/",
          "height": 173
        },
        "outputId": "5c40c194-48a2-4180-a2b4-607ffc8f731c",
        "executionInfo": {
          "status": "ok",
          "timestamp": 1532960438480,
          "user_tz": -120,
          "elapsed": 520,
          "user": {
            "displayName": "Santi Fri",
            "photoUrl": "//lh3.googleusercontent.com/-BiVylvwi5GA/AAAAAAAAAAI/AAAAAAAAKZE/2U1GGkGXqoI/s50-c-k-no/photo.jpg",
            "userId": "103760603338811779749"
          }
        }
      },
      "cell_type": "code",
      "source": [
        "test.describe().transpose()"
      ],
      "execution_count": 28,
      "outputs": [
        {
          "output_type": "execute_result",
          "data": {
            "text/html": [
              "<div>\n",
              "<style scoped>\n",
              "    .dataframe tbody tr th:only-of-type {\n",
              "        vertical-align: middle;\n",
              "    }\n",
              "\n",
              "    .dataframe tbody tr th {\n",
              "        vertical-align: top;\n",
              "    }\n",
              "\n",
              "    .dataframe thead th {\n",
              "        text-align: right;\n",
              "    }\n",
              "</style>\n",
              "<table border=\"1\" class=\"dataframe\">\n",
              "  <thead>\n",
              "    <tr style=\"text-align: right;\">\n",
              "      <th></th>\n",
              "      <th>count</th>\n",
              "      <th>mean</th>\n",
              "      <th>std</th>\n",
              "      <th>min</th>\n",
              "      <th>25%</th>\n",
              "      <th>50%</th>\n",
              "      <th>75%</th>\n",
              "      <th>max</th>\n",
              "    </tr>\n",
              "  </thead>\n",
              "  <tbody>\n",
              "    <tr>\n",
              "      <th>zoneId</th>\n",
              "      <td>2785.0</td>\n",
              "      <td>3.778097</td>\n",
              "      <td>0.844791</td>\n",
              "      <td>1.0</td>\n",
              "      <td>4.0</td>\n",
              "      <td>4.0</td>\n",
              "      <td>4.0</td>\n",
              "      <td>5.0</td>\n",
              "    </tr>\n",
              "    <tr>\n",
              "      <th>stationId</th>\n",
              "      <td>2785.0</td>\n",
              "      <td>3.118851</td>\n",
              "      <td>1.395505</td>\n",
              "      <td>1.0</td>\n",
              "      <td>1.0</td>\n",
              "      <td>4.0</td>\n",
              "      <td>4.0</td>\n",
              "      <td>5.0</td>\n",
              "    </tr>\n",
              "    <tr>\n",
              "      <th>serviceId</th>\n",
              "      <td>2785.0</td>\n",
              "      <td>1.497307</td>\n",
              "      <td>0.500083</td>\n",
              "      <td>1.0</td>\n",
              "      <td>1.0</td>\n",
              "      <td>1.0</td>\n",
              "      <td>2.0</td>\n",
              "      <td>2.0</td>\n",
              "    </tr>\n",
              "    <tr>\n",
              "      <th>plugId</th>\n",
              "      <td>2785.0</td>\n",
              "      <td>1.000000</td>\n",
              "      <td>0.000000</td>\n",
              "      <td>1.0</td>\n",
              "      <td>1.0</td>\n",
              "      <td>1.0</td>\n",
              "      <td>1.0</td>\n",
              "      <td>1.0</td>\n",
              "    </tr>\n",
              "  </tbody>\n",
              "</table>\n",
              "</div>"
            ],
            "text/plain": [
              "            count      mean       std  min  25%  50%  75%  max\n",
              "zoneId     2785.0  3.778097  0.844791  1.0  4.0  4.0  4.0  5.0\n",
              "stationId  2785.0  3.118851  1.395505  1.0  1.0  4.0  4.0  5.0\n",
              "serviceId  2785.0  1.497307  0.500083  1.0  1.0  1.0  2.0  2.0\n",
              "plugId     2785.0  1.000000  0.000000  1.0  1.0  1.0  1.0  1.0"
            ]
          },
          "metadata": {
            "tags": []
          },
          "execution_count": 28
        }
      ]
    },
    {
      "metadata": {
        "id": "7yOr8WFtIpCO",
        "colab_type": "text"
      },
      "cell_type": "markdown",
      "source": [
        "**Next step is to separate the data matrix and response**"
      ]
    },
    {
      "metadata": {
        "id": "_C6VyRQRHuvH",
        "colab_type": "code",
        "colab": {
          "autoexec": {
            "startup": false,
            "wait_interval": 0
          }
        }
      },
      "cell_type": "code",
      "source": [
        "X, y = train_data.drop('status', axis=1), train_data['status']  # For training dataset"
      ],
      "execution_count": 0,
      "outputs": []
    },
    {
      "metadata": {
        "id": "CNh26t2DOLfQ",
        "colab_type": "code",
        "colab": {
          "autoexec": {
            "startup": false,
            "wait_interval": 0
          }
        }
      },
      "cell_type": "code",
      "source": [
        "#X    # Uncomment to see data of attributes without the label(prediction values)"
      ],
      "execution_count": 0,
      "outputs": []
    },
    {
      "metadata": {
        "id": "4w9-Vhh3OLSw",
        "colab_type": "code",
        "colab": {
          "autoexec": {
            "startup": false,
            "wait_interval": 0
          }
        }
      },
      "cell_type": "code",
      "source": [
        "#y    # Uncomment to see data of the label(prediction values)"
      ],
      "execution_count": 0,
      "outputs": []
    },
    {
      "metadata": {
        "id": "CFshw7OEJOQu",
        "colab_type": "text"
      },
      "cell_type": "markdown",
      "source": [
        "**Now we are ready to apply Random Forest.**"
      ]
    },
    {
      "metadata": {
        "id": "Tfxub31nIHFn",
        "colab_type": "code",
        "colab": {
          "autoexec": {
            "startup": false,
            "wait_interval": 0
          }
        }
      },
      "cell_type": "code",
      "source": [
        "regr = RandomForestRegressor()"
      ],
      "execution_count": 0,
      "outputs": []
    },
    {
      "metadata": {
        "id": "4pVAlztZZ1MO",
        "colab_type": "code",
        "colab": {
          "autoexec": {
            "startup": false,
            "wait_interval": 0
          },
          "base_uri": "https://localhost:8080/",
          "height": 119
        },
        "outputId": "5a643174-95c1-4cd5-a6e9-67711ff1f616",
        "executionInfo": {
          "status": "ok",
          "timestamp": 1532960573356,
          "user_tz": -120,
          "elapsed": 1282,
          "user": {
            "displayName": "Santi Fri",
            "photoUrl": "//lh3.googleusercontent.com/-BiVylvwi5GA/AAAAAAAAAAI/AAAAAAAAKZE/2U1GGkGXqoI/s50-c-k-no/photo.jpg",
            "userId": "103760603338811779749"
          }
        }
      },
      "cell_type": "code",
      "source": [
        "regr.fit(X, y)"
      ],
      "execution_count": 33,
      "outputs": [
        {
          "output_type": "execute_result",
          "data": {
            "text/plain": [
              "RandomForestRegressor(bootstrap=True, criterion='mse', max_depth=None,\n",
              "           max_features='auto', max_leaf_nodes=None,\n",
              "           min_impurity_decrease=0.0, min_impurity_split=None,\n",
              "           min_samples_leaf=1, min_samples_split=2,\n",
              "           min_weight_fraction_leaf=0.0, n_estimators=10, n_jobs=1,\n",
              "           oob_score=False, random_state=None, verbose=0, warm_start=False)"
            ]
          },
          "metadata": {
            "tags": []
          },
          "execution_count": 33
        }
      ]
    },
    {
      "metadata": {
        "id": "eIgP2pf8JeWU",
        "colab_type": "text"
      },
      "cell_type": "markdown",
      "source": [
        "**To evaluate our model, we are calculating the $R^2$**"
      ]
    },
    {
      "metadata": {
        "id": "S7Qmm5Y1JW7J",
        "colab_type": "code",
        "colab": {
          "autoexec": {
            "startup": false,
            "wait_interval": 0
          },
          "base_uri": "https://localhost:8080/",
          "height": 34
        },
        "outputId": "c3d4aab1-22c4-4190-8d6b-b3ef794c4d01",
        "executionInfo": {
          "status": "ok",
          "timestamp": 1532960586717,
          "user_tz": -120,
          "elapsed": 497,
          "user": {
            "displayName": "Santi Fri",
            "photoUrl": "//lh3.googleusercontent.com/-BiVylvwi5GA/AAAAAAAAAAI/AAAAAAAAKZE/2U1GGkGXqoI/s50-c-k-no/photo.jpg",
            "userId": "103760603338811779749"
          }
        }
      },
      "cell_type": "code",
      "source": [
        "R2_Xy=regr.score(X, y)        # R2_Xy value of evaluation for train dataset\n",
        "print(f\"R^2 : {R2_Xy}\")"
      ],
      "execution_count": 34,
      "outputs": [
        {
          "output_type": "stream",
          "text": [
            "R^2 : 0.7587221372963804\n"
          ],
          "name": "stdout"
        }
      ]
    },
    {
      "metadata": {
        "id": "cX4s1gRPJnUP",
        "colab_type": "text"
      },
      "cell_type": "markdown",
      "source": [
        "**Splitting the X and y into train and test and calculate the $R^2$ for each one. **"
      ]
    },
    {
      "metadata": {
        "id": "nK8IuHQuJXQT",
        "colab_type": "code",
        "colab": {
          "autoexec": {
            "startup": false,
            "wait_interval": 0
          }
        }
      },
      "cell_type": "code",
      "source": [
        "X_train, X_test, y_train, y_test = train_test_split(X, y, test_size=0.3)"
      ],
      "execution_count": 0,
      "outputs": []
    },
    {
      "metadata": {
        "id": "Z-on6frkJXVY",
        "colab_type": "code",
        "colab": {
          "autoexec": {
            "startup": false,
            "wait_interval": 0
          }
        }
      },
      "cell_type": "code",
      "source": [
        "#regr = RandomForestRegressor()"
      ],
      "execution_count": 0,
      "outputs": []
    },
    {
      "metadata": {
        "id": "te7b7HdHJXOr",
        "colab_type": "code",
        "colab": {
          "autoexec": {
            "startup": false,
            "wait_interval": 0
          },
          "base_uri": "https://localhost:8080/",
          "height": 119
        },
        "outputId": "e774017c-5c6f-4d79-ee86-7d9a012315f2",
        "executionInfo": {
          "status": "ok",
          "timestamp": 1532960698367,
          "user_tz": -120,
          "elapsed": 987,
          "user": {
            "displayName": "Santi Fri",
            "photoUrl": "//lh3.googleusercontent.com/-BiVylvwi5GA/AAAAAAAAAAI/AAAAAAAAKZE/2U1GGkGXqoI/s50-c-k-no/photo.jpg",
            "userId": "103760603338811779749"
          }
        }
      },
      "cell_type": "code",
      "source": [
        "regr.fit(X_train, y_train)"
      ],
      "execution_count": 36,
      "outputs": [
        {
          "output_type": "execute_result",
          "data": {
            "text/plain": [
              "RandomForestRegressor(bootstrap=True, criterion='mse', max_depth=None,\n",
              "           max_features='auto', max_leaf_nodes=None,\n",
              "           min_impurity_decrease=0.0, min_impurity_split=None,\n",
              "           min_samples_leaf=1, min_samples_split=2,\n",
              "           min_weight_fraction_leaf=0.0, n_estimators=10, n_jobs=1,\n",
              "           oob_score=False, random_state=None, verbose=0, warm_start=False)"
            ]
          },
          "metadata": {
            "tags": []
          },
          "execution_count": 36
        }
      ]
    },
    {
      "metadata": {
        "id": "yqrFvIJ0cs2p",
        "colab_type": "code",
        "colab": {
          "autoexec": {
            "startup": false,
            "wait_interval": 0
          },
          "base_uri": "https://localhost:8080/",
          "height": 34
        },
        "outputId": "8a1fd316-159d-4a19-d5f9-a07cbcc6b4fd",
        "executionInfo": {
          "status": "ok",
          "timestamp": 1532960711320,
          "user_tz": -120,
          "elapsed": 495,
          "user": {
            "displayName": "Santi Fri",
            "photoUrl": "//lh3.googleusercontent.com/-BiVylvwi5GA/AAAAAAAAAAI/AAAAAAAAKZE/2U1GGkGXqoI/s50-c-k-no/photo.jpg",
            "userId": "103760603338811779749"
          }
        }
      },
      "cell_type": "code",
      "source": [
        "R2_XyT=regr.score(X_train, y_train)       # R2_XyT value of evaluation for train_train subdataset\n",
        "print(f\"R^2 : {R2_XyT}\")"
      ],
      "execution_count": 37,
      "outputs": [
        {
          "output_type": "stream",
          "text": [
            "R^2 : 0.7367729037534378\n"
          ],
          "name": "stdout"
        }
      ]
    },
    {
      "metadata": {
        "id": "ZJ9pGJR75nEP",
        "colab_type": "code",
        "colab": {
          "autoexec": {
            "startup": false,
            "wait_interval": 0
          },
          "base_uri": "https://localhost:8080/",
          "height": 119
        },
        "outputId": "fb74e958-0bb3-4009-b1fd-114c70655f58",
        "executionInfo": {
          "status": "ok",
          "timestamp": 1532960888023,
          "user_tz": -120,
          "elapsed": 512,
          "user": {
            "displayName": "Santi Fri",
            "photoUrl": "//lh3.googleusercontent.com/-BiVylvwi5GA/AAAAAAAAAAI/AAAAAAAAKZE/2U1GGkGXqoI/s50-c-k-no/photo.jpg",
            "userId": "103760603338811779749"
          }
        }
      },
      "cell_type": "code",
      "source": [
        "regr.fit(X_test, y_test)"
      ],
      "execution_count": 41,
      "outputs": [
        {
          "output_type": "execute_result",
          "data": {
            "text/plain": [
              "RandomForestRegressor(bootstrap=True, criterion='mse', max_depth=None,\n",
              "           max_features='auto', max_leaf_nodes=None,\n",
              "           min_impurity_decrease=0.0, min_impurity_split=None,\n",
              "           min_samples_leaf=1, min_samples_split=2,\n",
              "           min_weight_fraction_leaf=0.0, n_estimators=10, n_jobs=1,\n",
              "           oob_score=False, random_state=None, verbose=0, warm_start=False)"
            ]
          },
          "metadata": {
            "tags": []
          },
          "execution_count": 41
        }
      ]
    },
    {
      "metadata": {
        "id": "yNgw-XzreOr2",
        "colab_type": "code",
        "colab": {
          "autoexec": {
            "startup": false,
            "wait_interval": 0
          },
          "base_uri": "https://localhost:8080/",
          "height": 34
        },
        "outputId": "7a3177d1-2699-487e-e987-1e8bbac421fa",
        "executionInfo": {
          "status": "ok",
          "timestamp": 1532960908190,
          "user_tz": -120,
          "elapsed": 512,
          "user": {
            "displayName": "Santi Fri",
            "photoUrl": "//lh3.googleusercontent.com/-BiVylvwi5GA/AAAAAAAAAAI/AAAAAAAAKZE/2U1GGkGXqoI/s50-c-k-no/photo.jpg",
            "userId": "103760603338811779749"
          }
        }
      },
      "cell_type": "code",
      "source": [
        "R2_Xyt=regr.score(X_test, y_test)       # R2_Xyt value of evaluation for train_test subdataset\n",
        "print(f\"R^2 : {R2_XyT}\")"
      ],
      "execution_count": 42,
      "outputs": [
        {
          "output_type": "stream",
          "text": [
            "R^2 : 0.7367729037534378\n"
          ],
          "name": "stdout"
        }
      ]
    },
    {
      "metadata": {
        "id": "4Yox91ukJW5s",
        "colab_type": "code",
        "colab": {
          "autoexec": {
            "startup": false,
            "wait_interval": 0
          },
          "base_uri": "https://localhost:8080/",
          "height": 51
        },
        "outputId": "2cb8d48e-ea99-4bb5-d307-81c7df1e4f20",
        "executionInfo": {
          "status": "ok",
          "timestamp": 1532960936226,
          "user_tz": -120,
          "elapsed": 598,
          "user": {
            "displayName": "Santi Fri",
            "photoUrl": "//lh3.googleusercontent.com/-BiVylvwi5GA/AAAAAAAAAAI/AAAAAAAAKZE/2U1GGkGXqoI/s50-c-k-no/photo.jpg",
            "userId": "103760603338811779749"
          }
        }
      },
      "cell_type": "code",
      "source": [
        "print(f\"R^2 of train : {regr.score(X_train, y_train)}\")\n",
        "print(f\"R^2 of test : {regr.score(X_test, y_test)}\")"
      ],
      "execution_count": 43,
      "outputs": [
        {
          "output_type": "stream",
          "text": [
            "R^2 of train : -0.5382256143993589\n",
            "R^2 of test : 0.7385331577083227\n"
          ],
          "name": "stdout"
        }
      ]
    },
    {
      "metadata": {
        "id": "PsksTdauKFCa",
        "colab_type": "text"
      },
      "cell_type": "markdown",
      "source": [
        "**The difference between the $R^2$ of train and test imply overfitting.**\n",
        "\n",
        "------\n",
        "```\n",
        "Now let's increase the number of splits of the Random Forest to improve the $R^2$\n",
        "```\n",
        "----\n",
        "\n",
        "\n"
      ]
    },
    {
      "metadata": {
        "id": "nCKaYheNLLpO",
        "colab_type": "text"
      },
      "cell_type": "markdown",
      "source": [
        "Increase splits to 40"
      ]
    },
    {
      "metadata": {
        "id": "jLIkX18eHuoI",
        "colab_type": "code",
        "colab": {
          "autoexec": {
            "startup": false,
            "wait_interval": 0
          }
        }
      },
      "cell_type": "code",
      "source": [
        "regr = RandomForestRegressor(n_estimators=40)"
      ],
      "execution_count": 0,
      "outputs": []
    },
    {
      "metadata": {
        "id": "HGh4wGuuKdr-",
        "colab_type": "code",
        "colab": {
          "autoexec": {
            "startup": false,
            "wait_interval": 0
          },
          "base_uri": "https://localhost:8080/",
          "height": 119
        },
        "outputId": "3c5ed93e-7b06-40bd-ea21-87ab05e2c6c4",
        "executionInfo": {
          "status": "ok",
          "timestamp": 1532960964515,
          "user_tz": -120,
          "elapsed": 2338,
          "user": {
            "displayName": "Santi Fri",
            "photoUrl": "//lh3.googleusercontent.com/-BiVylvwi5GA/AAAAAAAAAAI/AAAAAAAAKZE/2U1GGkGXqoI/s50-c-k-no/photo.jpg",
            "userId": "103760603338811779749"
          }
        }
      },
      "cell_type": "code",
      "source": [
        "regr.fit(X_train, y_train)"
      ],
      "execution_count": 45,
      "outputs": [
        {
          "output_type": "execute_result",
          "data": {
            "text/plain": [
              "RandomForestRegressor(bootstrap=True, criterion='mse', max_depth=None,\n",
              "           max_features='auto', max_leaf_nodes=None,\n",
              "           min_impurity_decrease=0.0, min_impurity_split=None,\n",
              "           min_samples_leaf=1, min_samples_split=2,\n",
              "           min_weight_fraction_leaf=0.0, n_estimators=40, n_jobs=1,\n",
              "           oob_score=False, random_state=None, verbose=0, warm_start=False)"
            ]
          },
          "metadata": {
            "tags": []
          },
          "execution_count": 45
        }
      ]
    },
    {
      "metadata": {
        "id": "M_fY3fWIK7A_",
        "colab_type": "text"
      },
      "cell_type": "markdown",
      "source": [
        "Results after increase number of splits to 40\n"
      ]
    },
    {
      "metadata": {
        "id": "sPS8PxdeLChH",
        "colab_type": "code",
        "colab": {
          "autoexec": {
            "startup": false,
            "wait_interval": 0
          },
          "base_uri": "https://localhost:8080/",
          "height": 51
        },
        "outputId": "704ec3e6-fdd6-4c12-a85e-82ffb814c2e3",
        "executionInfo": {
          "status": "ok",
          "timestamp": 1532960969387,
          "user_tz": -120,
          "elapsed": 721,
          "user": {
            "displayName": "Santi Fri",
            "photoUrl": "//lh3.googleusercontent.com/-BiVylvwi5GA/AAAAAAAAAAI/AAAAAAAAKZE/2U1GGkGXqoI/s50-c-k-no/photo.jpg",
            "userId": "103760603338811779749"
          }
        }
      },
      "cell_type": "code",
      "source": [
        "print(f\"R^2 of train: {regr.score(X_train, y_train)}\")\n",
        "print(f\"R^2 of test: {regr.score(X_test, y_test)}\")"
      ],
      "execution_count": 46,
      "outputs": [
        {
          "output_type": "stream",
          "text": [
            "R^2 of train: 0.7799506131426688\n",
            "R^2 of test: -0.4861209591498361\n"
          ],
          "name": "stdout"
        }
      ]
    },
    {
      "metadata": {
        "id": "tVAHc6q6LIpm",
        "colab_type": "text"
      },
      "cell_type": "markdown",
      "source": [
        "increase splits to 100"
      ]
    },
    {
      "metadata": {
        "id": "dR7WMIVpLWWF",
        "colab_type": "code",
        "colab": {
          "autoexec": {
            "startup": false,
            "wait_interval": 0
          }
        }
      },
      "cell_type": "code",
      "source": [
        "regr = RandomForestRegressor(n_estimators=100)"
      ],
      "execution_count": 0,
      "outputs": []
    },
    {
      "metadata": {
        "id": "WU35VTx7LXJH",
        "colab_type": "code",
        "colab": {
          "autoexec": {
            "startup": false,
            "wait_interval": 0
          },
          "base_uri": "https://localhost:8080/",
          "height": 119
        },
        "outputId": "2b9d2d33-093d-437c-931f-37df85a90321",
        "executionInfo": {
          "status": "ok",
          "timestamp": 1532961040401,
          "user_tz": -120,
          "elapsed": 5093,
          "user": {
            "displayName": "Santi Fri",
            "photoUrl": "//lh3.googleusercontent.com/-BiVylvwi5GA/AAAAAAAAAAI/AAAAAAAAKZE/2U1GGkGXqoI/s50-c-k-no/photo.jpg",
            "userId": "103760603338811779749"
          }
        }
      },
      "cell_type": "code",
      "source": [
        "regr.fit(X_train, y_train)"
      ],
      "execution_count": 48,
      "outputs": [
        {
          "output_type": "execute_result",
          "data": {
            "text/plain": [
              "RandomForestRegressor(bootstrap=True, criterion='mse', max_depth=None,\n",
              "           max_features='auto', max_leaf_nodes=None,\n",
              "           min_impurity_decrease=0.0, min_impurity_split=None,\n",
              "           min_samples_leaf=1, min_samples_split=2,\n",
              "           min_weight_fraction_leaf=0.0, n_estimators=100, n_jobs=1,\n",
              "           oob_score=False, random_state=None, verbose=0, warm_start=False)"
            ]
          },
          "metadata": {
            "tags": []
          },
          "execution_count": 48
        }
      ]
    },
    {
      "metadata": {
        "id": "h1LW6UxyLfd5",
        "colab_type": "text"
      },
      "cell_type": "markdown",
      "source": [
        "Results after increase number of splits to 100"
      ]
    },
    {
      "metadata": {
        "id": "-hlj_yXFLXRQ",
        "colab_type": "code",
        "colab": {
          "autoexec": {
            "startup": false,
            "wait_interval": 0
          },
          "base_uri": "https://localhost:8080/",
          "height": 51
        },
        "outputId": "403c7dc2-5073-4013-9788-9dc29ff3926a",
        "executionInfo": {
          "status": "ok",
          "timestamp": 1532961134826,
          "user_tz": -120,
          "elapsed": 5757,
          "user": {
            "displayName": "Santi Fri",
            "photoUrl": "//lh3.googleusercontent.com/-BiVylvwi5GA/AAAAAAAAAAI/AAAAAAAAKZE/2U1GGkGXqoI/s50-c-k-no/photo.jpg",
            "userId": "103760603338811779749"
          }
        }
      },
      "cell_type": "code",
      "source": [
        "print(f\"R-squared of train: {regr.score(X_train, y_train)}\")\n",
        "print(f\"R-squared of test: {regr.score(X_test, y_test)}\")"
      ],
      "execution_count": 49,
      "outputs": [
        {
          "output_type": "stream",
          "text": [
            "R-squared of train: 0.7890158371435133\n",
            "R-squared of test: -0.47707462221862285\n"
          ],
          "name": "stdout"
        }
      ]
    },
    {
      "metadata": {
        "id": "SG1OOIUkLvkv",
        "colab_type": "text"
      },
      "cell_type": "markdown",
      "source": [
        "As expected, the bigger the number of estimators the $R^2$ are getting closer"
      ]
    },
    {
      "metadata": {
        "id": "GSYSMu7ZMSSv",
        "colab_type": "text"
      },
      "cell_type": "markdown",
      "source": [
        "## Gradient Descent applied ##\n",
        "---\n",
        " the GradientBoostingRegressor successively fits regression trees to the residuals of the previous stage. Now if the tree in stage i predicts a value larger than the target variable for a particular training example, the residual of stage i for that example is going to be negative, and so the regression tree at stage i+1 will face negative target values (which are the residuals from stage i). As the boosting algorithm adds up all these trees to make the final prediction, I believe this can explain why you may end up with negative predictions, even though all the target values in the training set were positive, especially as you mentioned that this happens more often when you increase the number of trees.\n",
        " \n",
        "---"
      ]
    },
    {
      "metadata": {
        "id": "fuD_E2opLXZC",
        "colab_type": "code",
        "colab": {
          "autoexec": {
            "startup": false,
            "wait_interval": 0
          }
        }
      },
      "cell_type": "code",
      "source": [
        "gbrt=GradientBoostingRegressor(n_estimators=100)"
      ],
      "execution_count": 0,
      "outputs": []
    },
    {
      "metadata": {
        "id": "L96KxujRNPVq",
        "colab_type": "code",
        "colab": {
          "autoexec": {
            "startup": false,
            "wait_interval": 0
          },
          "base_uri": "https://localhost:8080/",
          "height": 136
        },
        "outputId": "610898a2-e492-4023-f9fa-653e85b4f55e",
        "executionInfo": {
          "status": "ok",
          "timestamp": 1532961175259,
          "user_tz": -120,
          "elapsed": 730,
          "user": {
            "displayName": "Santi Fri",
            "photoUrl": "//lh3.googleusercontent.com/-BiVylvwi5GA/AAAAAAAAAAI/AAAAAAAAKZE/2U1GGkGXqoI/s50-c-k-no/photo.jpg",
            "userId": "103760603338811779749"
          }
        }
      },
      "cell_type": "code",
      "source": [
        "gbrt.fit(X_train, y_train)"
      ],
      "execution_count": 51,
      "outputs": [
        {
          "output_type": "execute_result",
          "data": {
            "text/plain": [
              "GradientBoostingRegressor(alpha=0.9, criterion='friedman_mse', init=None,\n",
              "             learning_rate=0.1, loss='ls', max_depth=3, max_features=None,\n",
              "             max_leaf_nodes=None, min_impurity_decrease=0.0,\n",
              "             min_impurity_split=None, min_samples_leaf=1,\n",
              "             min_samples_split=2, min_weight_fraction_leaf=0.0,\n",
              "             n_estimators=100, presort='auto', random_state=None,\n",
              "             subsample=1.0, verbose=0, warm_start=False)"
            ]
          },
          "metadata": {
            "tags": []
          },
          "execution_count": 51
        }
      ]
    },
    {
      "metadata": {
        "id": "k3QfsvpjNPcb",
        "colab_type": "code",
        "colab": {
          "autoexec": {
            "startup": false,
            "wait_interval": 0
          },
          "base_uri": "https://localhost:8080/",
          "height": 51
        },
        "outputId": "f5f39aa7-e6bc-4109-87d8-8399f2bba4c2",
        "executionInfo": {
          "status": "ok",
          "timestamp": 1532961178411,
          "user_tz": -120,
          "elapsed": 494,
          "user": {
            "displayName": "Santi Fri",
            "photoUrl": "//lh3.googleusercontent.com/-BiVylvwi5GA/AAAAAAAAAAI/AAAAAAAAKZE/2U1GGkGXqoI/s50-c-k-no/photo.jpg",
            "userId": "103760603338811779749"
          }
        }
      },
      "cell_type": "code",
      "source": [
        "y_pred=gbrt.predict(X_test)\n",
        "y_pred"
      ],
      "execution_count": 52,
      "outputs": [
        {
          "output_type": "execute_result",
          "data": {
            "text/plain": [
              "array([1.66745355, 1.69700026, 1.69940024, ..., 1.85680686, 1.71666959,\n",
              "       1.69209172])"
            ]
          },
          "metadata": {
            "tags": []
          },
          "execution_count": 52
        }
      ]
    },
    {
      "metadata": {
        "id": "0Cnkdu_zNPlX",
        "colab_type": "code",
        "colab": {
          "autoexec": {
            "startup": false,
            "wait_interval": 0
          }
        }
      },
      "cell_type": "code",
      "source": [
        "index = test['timestamp']"
      ],
      "execution_count": 0,
      "outputs": []
    },
    {
      "metadata": {
        "id": "GR411JJoNc1p",
        "colab_type": "code",
        "colab": {
          "autoexec": {
            "startup": false,
            "wait_interval": 0
          },
          "base_uri": "https://localhost:8080/",
          "height": 1081
        },
        "outputId": "622b4120-6064-4e79-cacf-1af17b58cc87",
        "executionInfo": {
          "status": "error",
          "timestamp": 1532877108676,
          "user_tz": -120,
          "elapsed": 549,
          "user": {
            "displayName": "Santi Fri",
            "photoUrl": "//lh3.googleusercontent.com/-BiVylvwi5GA/AAAAAAAAAAI/AAAAAAAAKZE/2U1GGkGXqoI/s50-c-k-no/photo.jpg",
            "userId": "103760603338811779749"
          }
        }
      },
      "cell_type": "code",
      "source": [
        "df = pd.DataFrame(y_pred, index=index)\n",
        "df"
      ],
      "execution_count": 48,
      "outputs": [
        {
          "output_type": "error",
          "ename": "ValueError",
          "evalue": "ignored",
          "traceback": [
            "\u001b[0;31m---------------------------------------------------------------------------\u001b[0m",
            "\u001b[0;31mValueError\u001b[0m                                Traceback (most recent call last)",
            "\u001b[0;32m/usr/local/lib/python3.6/dist-packages/pandas/core/internals.py\u001b[0m in \u001b[0;36mcreate_block_manager_from_blocks\u001b[0;34m(blocks, axes)\u001b[0m\n\u001b[1;32m   4623\u001b[0m \u001b[0;34m\u001b[0m\u001b[0m\n\u001b[0;32m-> 4624\u001b[0;31m         \u001b[0mmgr\u001b[0m \u001b[0;34m=\u001b[0m \u001b[0mBlockManager\u001b[0m\u001b[0;34m(\u001b[0m\u001b[0mblocks\u001b[0m\u001b[0;34m,\u001b[0m \u001b[0maxes\u001b[0m\u001b[0;34m)\u001b[0m\u001b[0;34m\u001b[0m\u001b[0m\n\u001b[0m\u001b[1;32m   4625\u001b[0m         \u001b[0mmgr\u001b[0m\u001b[0;34m.\u001b[0m\u001b[0m_consolidate_inplace\u001b[0m\u001b[0;34m(\u001b[0m\u001b[0;34m)\u001b[0m\u001b[0;34m\u001b[0m\u001b[0m\n",
            "\u001b[0;32m/usr/local/lib/python3.6/dist-packages/pandas/core/internals.py\u001b[0m in \u001b[0;36m__init__\u001b[0;34m(self, blocks, axes, do_integrity_check, fastpath)\u001b[0m\n\u001b[1;32m   3032\u001b[0m         \u001b[0;32mif\u001b[0m \u001b[0mdo_integrity_check\u001b[0m\u001b[0;34m:\u001b[0m\u001b[0;34m\u001b[0m\u001b[0m\n\u001b[0;32m-> 3033\u001b[0;31m             \u001b[0mself\u001b[0m\u001b[0;34m.\u001b[0m\u001b[0m_verify_integrity\u001b[0m\u001b[0;34m(\u001b[0m\u001b[0;34m)\u001b[0m\u001b[0;34m\u001b[0m\u001b[0m\n\u001b[0m\u001b[1;32m   3034\u001b[0m \u001b[0;34m\u001b[0m\u001b[0m\n",
            "\u001b[0;32m/usr/local/lib/python3.6/dist-packages/pandas/core/internals.py\u001b[0m in \u001b[0;36m_verify_integrity\u001b[0;34m(self)\u001b[0m\n\u001b[1;32m   3243\u001b[0m             \u001b[0;32mif\u001b[0m \u001b[0mblock\u001b[0m\u001b[0;34m.\u001b[0m\u001b[0m_verify_integrity\u001b[0m \u001b[0;32mand\u001b[0m \u001b[0mblock\u001b[0m\u001b[0;34m.\u001b[0m\u001b[0mshape\u001b[0m\u001b[0;34m[\u001b[0m\u001b[0;36m1\u001b[0m\u001b[0;34m:\u001b[0m\u001b[0;34m]\u001b[0m \u001b[0;34m!=\u001b[0m \u001b[0mmgr_shape\u001b[0m\u001b[0;34m[\u001b[0m\u001b[0;36m1\u001b[0m\u001b[0;34m:\u001b[0m\u001b[0;34m]\u001b[0m\u001b[0;34m:\u001b[0m\u001b[0;34m\u001b[0m\u001b[0m\n\u001b[0;32m-> 3244\u001b[0;31m                 \u001b[0mconstruction_error\u001b[0m\u001b[0;34m(\u001b[0m\u001b[0mtot_items\u001b[0m\u001b[0;34m,\u001b[0m \u001b[0mblock\u001b[0m\u001b[0;34m.\u001b[0m\u001b[0mshape\u001b[0m\u001b[0;34m[\u001b[0m\u001b[0;36m1\u001b[0m\u001b[0;34m:\u001b[0m\u001b[0;34m]\u001b[0m\u001b[0;34m,\u001b[0m \u001b[0mself\u001b[0m\u001b[0;34m.\u001b[0m\u001b[0maxes\u001b[0m\u001b[0;34m)\u001b[0m\u001b[0;34m\u001b[0m\u001b[0m\n\u001b[0m\u001b[1;32m   3245\u001b[0m         \u001b[0;32mif\u001b[0m \u001b[0mlen\u001b[0m\u001b[0;34m(\u001b[0m\u001b[0mself\u001b[0m\u001b[0;34m.\u001b[0m\u001b[0mitems\u001b[0m\u001b[0;34m)\u001b[0m \u001b[0;34m!=\u001b[0m \u001b[0mtot_items\u001b[0m\u001b[0;34m:\u001b[0m\u001b[0;34m\u001b[0m\u001b[0m\n",
            "\u001b[0;32m/usr/local/lib/python3.6/dist-packages/pandas/core/internals.py\u001b[0m in \u001b[0;36mconstruction_error\u001b[0;34m(tot_items, block_shape, axes, e)\u001b[0m\n\u001b[1;32m   4607\u001b[0m     raise ValueError(\"Shape of passed values is {0}, indices imply {1}\".format(\n\u001b[0;32m-> 4608\u001b[0;31m         passed, implied))\n\u001b[0m\u001b[1;32m   4609\u001b[0m \u001b[0;34m\u001b[0m\u001b[0m\n",
            "\u001b[0;31mValueError\u001b[0m: Shape of passed values is (1, 7519), indices imply (1, 2785)",
            "\nDuring handling of the above exception, another exception occurred:\n",
            "\u001b[0;31mValueError\u001b[0m                                Traceback (most recent call last)",
            "\u001b[0;32m<ipython-input-48-70ac8e9762b3>\u001b[0m in \u001b[0;36m<module>\u001b[0;34m()\u001b[0m\n\u001b[0;32m----> 1\u001b[0;31m \u001b[0mdf\u001b[0m \u001b[0;34m=\u001b[0m \u001b[0mpd\u001b[0m\u001b[0;34m.\u001b[0m\u001b[0mDataFrame\u001b[0m\u001b[0;34m(\u001b[0m\u001b[0my_pred\u001b[0m\u001b[0;34m,\u001b[0m \u001b[0mindex\u001b[0m\u001b[0;34m=\u001b[0m\u001b[0mindex\u001b[0m\u001b[0;34m)\u001b[0m\u001b[0;34m\u001b[0m\u001b[0m\n\u001b[0m\u001b[1;32m      2\u001b[0m \u001b[0mdf\u001b[0m\u001b[0;34m\u001b[0m\u001b[0m\n",
            "\u001b[0;32m/usr/local/lib/python3.6/dist-packages/pandas/core/frame.py\u001b[0m in \u001b[0;36m__init__\u001b[0;34m(self, data, index, columns, dtype, copy)\u001b[0m\n\u001b[1;32m    359\u001b[0m             \u001b[0;32melse\u001b[0m\u001b[0;34m:\u001b[0m\u001b[0;34m\u001b[0m\u001b[0m\n\u001b[1;32m    360\u001b[0m                 mgr = self._init_ndarray(data, index, columns, dtype=dtype,\n\u001b[0;32m--> 361\u001b[0;31m                                          copy=copy)\n\u001b[0m\u001b[1;32m    362\u001b[0m         \u001b[0;32melif\u001b[0m \u001b[0misinstance\u001b[0m\u001b[0;34m(\u001b[0m\u001b[0mdata\u001b[0m\u001b[0;34m,\u001b[0m \u001b[0;34m(\u001b[0m\u001b[0mlist\u001b[0m\u001b[0;34m,\u001b[0m \u001b[0mtypes\u001b[0m\u001b[0;34m.\u001b[0m\u001b[0mGeneratorType\u001b[0m\u001b[0;34m)\u001b[0m\u001b[0;34m)\u001b[0m\u001b[0;34m:\u001b[0m\u001b[0;34m\u001b[0m\u001b[0m\n\u001b[1;32m    363\u001b[0m             \u001b[0;32mif\u001b[0m \u001b[0misinstance\u001b[0m\u001b[0;34m(\u001b[0m\u001b[0mdata\u001b[0m\u001b[0;34m,\u001b[0m \u001b[0mtypes\u001b[0m\u001b[0;34m.\u001b[0m\u001b[0mGeneratorType\u001b[0m\u001b[0;34m)\u001b[0m\u001b[0;34m:\u001b[0m\u001b[0;34m\u001b[0m\u001b[0m\n",
            "\u001b[0;32m/usr/local/lib/python3.6/dist-packages/pandas/core/frame.py\u001b[0m in \u001b[0;36m_init_ndarray\u001b[0;34m(self, values, index, columns, dtype, copy)\u001b[0m\n\u001b[1;32m    531\u001b[0m             \u001b[0mvalues\u001b[0m \u001b[0;34m=\u001b[0m \u001b[0mmaybe_infer_to_datetimelike\u001b[0m\u001b[0;34m(\u001b[0m\u001b[0mvalues\u001b[0m\u001b[0;34m)\u001b[0m\u001b[0;34m\u001b[0m\u001b[0m\n\u001b[1;32m    532\u001b[0m \u001b[0;34m\u001b[0m\u001b[0m\n\u001b[0;32m--> 533\u001b[0;31m         \u001b[0;32mreturn\u001b[0m \u001b[0mcreate_block_manager_from_blocks\u001b[0m\u001b[0;34m(\u001b[0m\u001b[0;34m[\u001b[0m\u001b[0mvalues\u001b[0m\u001b[0;34m]\u001b[0m\u001b[0;34m,\u001b[0m \u001b[0;34m[\u001b[0m\u001b[0mcolumns\u001b[0m\u001b[0;34m,\u001b[0m \u001b[0mindex\u001b[0m\u001b[0;34m]\u001b[0m\u001b[0;34m)\u001b[0m\u001b[0;34m\u001b[0m\u001b[0m\n\u001b[0m\u001b[1;32m    534\u001b[0m \u001b[0;34m\u001b[0m\u001b[0m\n\u001b[1;32m    535\u001b[0m     \u001b[0;34m@\u001b[0m\u001b[0mproperty\u001b[0m\u001b[0;34m\u001b[0m\u001b[0m\n",
            "\u001b[0;32m/usr/local/lib/python3.6/dist-packages/pandas/core/internals.py\u001b[0m in \u001b[0;36mcreate_block_manager_from_blocks\u001b[0;34m(blocks, axes)\u001b[0m\n\u001b[1;32m   4629\u001b[0m         \u001b[0mblocks\u001b[0m \u001b[0;34m=\u001b[0m \u001b[0;34m[\u001b[0m\u001b[0mgetattr\u001b[0m\u001b[0;34m(\u001b[0m\u001b[0mb\u001b[0m\u001b[0;34m,\u001b[0m \u001b[0;34m'values'\u001b[0m\u001b[0;34m,\u001b[0m \u001b[0mb\u001b[0m\u001b[0;34m)\u001b[0m \u001b[0;32mfor\u001b[0m \u001b[0mb\u001b[0m \u001b[0;32min\u001b[0m \u001b[0mblocks\u001b[0m\u001b[0;34m]\u001b[0m\u001b[0;34m\u001b[0m\u001b[0m\n\u001b[1;32m   4630\u001b[0m         \u001b[0mtot_items\u001b[0m \u001b[0;34m=\u001b[0m \u001b[0msum\u001b[0m\u001b[0;34m(\u001b[0m\u001b[0mb\u001b[0m\u001b[0;34m.\u001b[0m\u001b[0mshape\u001b[0m\u001b[0;34m[\u001b[0m\u001b[0;36m0\u001b[0m\u001b[0;34m]\u001b[0m \u001b[0;32mfor\u001b[0m \u001b[0mb\u001b[0m \u001b[0;32min\u001b[0m \u001b[0mblocks\u001b[0m\u001b[0;34m)\u001b[0m\u001b[0;34m\u001b[0m\u001b[0m\n\u001b[0;32m-> 4631\u001b[0;31m         \u001b[0mconstruction_error\u001b[0m\u001b[0;34m(\u001b[0m\u001b[0mtot_items\u001b[0m\u001b[0;34m,\u001b[0m \u001b[0mblocks\u001b[0m\u001b[0;34m[\u001b[0m\u001b[0;36m0\u001b[0m\u001b[0;34m]\u001b[0m\u001b[0;34m.\u001b[0m\u001b[0mshape\u001b[0m\u001b[0;34m[\u001b[0m\u001b[0;36m1\u001b[0m\u001b[0;34m:\u001b[0m\u001b[0;34m]\u001b[0m\u001b[0;34m,\u001b[0m \u001b[0maxes\u001b[0m\u001b[0;34m,\u001b[0m \u001b[0me\u001b[0m\u001b[0;34m)\u001b[0m\u001b[0;34m\u001b[0m\u001b[0m\n\u001b[0m\u001b[1;32m   4632\u001b[0m \u001b[0;34m\u001b[0m\u001b[0m\n\u001b[1;32m   4633\u001b[0m \u001b[0;34m\u001b[0m\u001b[0m\n",
            "\u001b[0;32m/usr/local/lib/python3.6/dist-packages/pandas/core/internals.py\u001b[0m in \u001b[0;36mconstruction_error\u001b[0;34m(tot_items, block_shape, axes, e)\u001b[0m\n\u001b[1;32m   4606\u001b[0m         \u001b[0;32mraise\u001b[0m \u001b[0mValueError\u001b[0m\u001b[0;34m(\u001b[0m\u001b[0;34m\"Empty data passed with indices specified.\"\u001b[0m\u001b[0;34m)\u001b[0m\u001b[0;34m\u001b[0m\u001b[0m\n\u001b[1;32m   4607\u001b[0m     raise ValueError(\"Shape of passed values is {0}, indices imply {1}\".format(\n\u001b[0;32m-> 4608\u001b[0;31m         passed, implied))\n\u001b[0m\u001b[1;32m   4609\u001b[0m \u001b[0;34m\u001b[0m\u001b[0m\n\u001b[1;32m   4610\u001b[0m \u001b[0;34m\u001b[0m\u001b[0m\n",
            "\u001b[0;31mValueError\u001b[0m: Shape of passed values is (1, 7519), indices imply (1, 2785)"
          ]
        }
      ]
    },
    {
      "metadata": {
        "id": "iLLNXxvZNc6o",
        "colab_type": "code",
        "colab": {
          "autoexec": {
            "startup": false,
            "wait_interval": 0
          }
        }
      },
      "cell_type": "code",
      "source": [
        "df.columns = ['target']"
      ],
      "execution_count": 0,
      "outputs": []
    },
    {
      "metadata": {
        "id": "c7f0VRU5NdDE",
        "colab_type": "code",
        "colab": {
          "autoexec": {
            "startup": false,
            "wait_interval": 0
          }
        }
      },
      "cell_type": "code",
      "source": [
        "df.to_csv(\"submit_me.csv\")"
      ],
      "execution_count": 0,
      "outputs": []
    },
    {
      "metadata": {
        "id": "tk-_A3FLNwE4",
        "colab_type": "text"
      },
      "cell_type": "markdown",
      "source": [
        "As someone can understand from above, the $R^2$ of Train and Test do not converge, which is our goal here, to be sure we do not overfit.\n",
        "Potential improvements can be feauture engineering, to find the feautures that influence our predictions the most and then apply Random Forests again."
      ]
    }
  ]
}