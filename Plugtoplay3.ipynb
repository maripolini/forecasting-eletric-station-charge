{
 "cells": [
  {
   "cell_type": "code",
   "execution_count": null,
   "metadata": {},
   "outputs": [],
   "source": [
    "import pandas as pd\n",
    "path_train = pd.read_csv(\"data/plugtoplay/training.csv\")"
   ]
  },
  {
   "cell_type": "code",
   "execution_count": null,
   "metadata": {},
   "outputs": [],
   "source": [
    "path_train"
   ]
  },
  {
   "cell_type": "code",
   "execution_count": null,
   "metadata": {},
   "outputs": [],
   "source": [
    "\"\"\"TRAINING THE MODEL\"\"\"\n",
    "\n",
    "import pandas as pd\n",
    "from sklearn.ensemble import RandomForestRegressor\n",
    "\n",
    "# Importing the dataset\n",
    "path_train = \"data/plugtoplay/training.csv\"\n",
    "data_train = pd.read_csv(path_train)\n",
    "\n",
    "# Target Matrix\n",
    "y_train = data_train.status\n",
    "\n",
    "# Feature Matrix\n",
    "model_predictors = ['zoneId','stationId','serviceId','plugId','date','time']\n",
    "X_train = data_train[model_predictors]\n",
    "\n",
    "#Training thr model\n",
    "regressor_forest = RandomForestRegressor(n_estimators = 70, random_state = 0, min_samples_leaf = 3,\n",
    "                                    max_features = 'auto')\n",
    "regressor_forest.fit(X_train, y_train)"
   ]
  },
  {
   "cell_type": "code",
   "execution_count": null,
   "metadata": {},
   "outputs": [],
   "source": [
    "\"\"\"TESTING OF MODEL\"\"\"\n",
    "\n",
    "#Import dataset\n",
    "path_test = 'data/plugtoplay/test.csv'\n",
    "data_test = pd.read_csv(path_test)\n",
    "\n",
    "#Feature Matrix\n",
    "model_predictors = ['zoneId','stationId','serviceId','plugId','date','time']\n",
    "X_test = data_test[model_predictors]\n",
    "\n",
    "#Prediction\n",
    "y_pred = regressor_forest.predict(X_test)\n",
    "print(y_pred)"
   ]
  },
  {
   "cell_type": "code",
   "execution_count": null,
   "metadata": {},
   "outputs": [],
   "source": [
    "my_submission = pd.DataFrame({\"zoneId\": data_test.zoneId, \"status\": y_pred})"
   ]
  },
  {
   "cell_type": "code",
   "execution_count": null,
   "metadata": {},
   "outputs": [],
   "source": [
    "my_submission"
   ]
  },
  {
   "cell_type": "code",
   "execution_count": null,
   "metadata": {},
   "outputs": [],
   "source": [
    "my_submission.to_csv('submit_me.csv', index=False)"
   ]
  },
  {
   "cell_type": "code",
   "execution_count": null,
   "metadata": {},
   "outputs": [],
   "source": []
  }
 ],
 "metadata": {
  "kernelspec": {
   "display_name": "Python 3",
   "language": "python",
   "name": "python3"
  },
  "language_info": {
   "codemirror_mode": {
    "name": "ipython",
    "version": 3
   },
   "file_extension": ".py",
   "mimetype": "text/x-python",
   "name": "python",
   "nbconvert_exporter": "python",
   "pygments_lexer": "ipython3",
   "version": "3.6.5"
  }
 },
 "nbformat": 4,
 "nbformat_minor": 2
}
